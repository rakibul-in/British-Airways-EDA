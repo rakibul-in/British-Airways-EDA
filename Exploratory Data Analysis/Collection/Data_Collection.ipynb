{
 "cells": [
  {
   "cell_type": "code",
   "execution_count": 1,
   "id": "3705b827-2087-4b04-acae-68aed09ccd64",
   "metadata": {
    "tags": []
   },
   "outputs": [],
   "source": [
    "import pandas as pd\n",
    "import numpy as np\n",
    "import requests\n",
    "from bs4 import BeautifulSoup"
   ]
  },
  {
   "cell_type": "code",
   "execution_count": 2,
   "id": "7c98f925-3f3a-4bb3-801a-22357371aba4",
   "metadata": {
    "tags": []
   },
   "outputs": [],
   "source": [
    "reviews = []\n",
    "stars = []\n",
    "date = []\n",
    "country = []"
   ]
  },
  {
   "cell_type": "code",
   "execution_count": 3,
   "id": "b5e24918-d1fa-4a66-b0f6-f7eba6730098",
   "metadata": {
    "tags": []
   },
   "outputs": [
    {
     "name": "stdout",
     "output_type": "stream",
     "text": [
      "Scrapping page 1\n",
      "   ---> 100 total reviews\n",
      "Scrapping page 2\n",
      "   ---> 200 total reviews\n",
      "Scrapping page 3\n",
      "   ---> 300 total reviews\n",
      "Scrapping page 4\n",
      "   ---> 400 total reviews\n",
      "Scrapping page 5\n",
      "   ---> 500 total reviews\n",
      "Scrapping page 6\n",
      "   ---> 600 total reviews\n",
      "Scrapping page 7\n",
      "   ---> 700 total reviews\n",
      "Scrapping page 8\n",
      "   ---> 800 total reviews\n",
      "Scrapping page 9\n",
      "   ---> 900 total reviews\n",
      "Scrapping page 10\n",
      "   ---> 1000 total reviews\n",
      "Scrapping page 11\n",
      "   ---> 1100 total reviews\n",
      "Scrapping page 12\n",
      "   ---> 1200 total reviews\n",
      "Scrapping page 13\n",
      "   ---> 1300 total reviews\n",
      "Scrapping page 14\n",
      "   ---> 1400 total reviews\n",
      "Scrapping page 15\n",
      "   ---> 1500 total reviews\n",
      "Scrapping page 16\n",
      "   ---> 1600 total reviews\n",
      "Scrapping page 17\n",
      "   ---> 1700 total reviews\n",
      "Scrapping page 18\n",
      "   ---> 1800 total reviews\n",
      "Scrapping page 19\n",
      "   ---> 1900 total reviews\n",
      "Scrapping page 20\n",
      "   ---> 2000 total reviews\n",
      "Scrapping page 21\n",
      "   ---> 2100 total reviews\n",
      "Scrapping page 22\n",
      "   ---> 2200 total reviews\n",
      "Scrapping page 23\n",
      "   ---> 2300 total reviews\n",
      "Scrapping page 24\n",
      "   ---> 2400 total reviews\n",
      "Scrapping page 25\n",
      "   ---> 2500 total reviews\n",
      "Scrapping page 26\n",
      "   ---> 2600 total reviews\n",
      "Scrapping page 27\n",
      "   ---> 2700 total reviews\n",
      "Scrapping page 28\n",
      "   ---> 2800 total reviews\n",
      "Scrapping page 29\n",
      "   ---> 2900 total reviews\n",
      "Scrapping page 30\n",
      "   ---> 3000 total reviews\n",
      "Scrapping page 31\n",
      "   ---> 3100 total reviews\n",
      "Scrapping page 32\n",
      "   ---> 3200 total reviews\n",
      "Scrapping page 33\n",
      "Error on page 33\n",
      "   ---> 3300 total reviews\n",
      "Scrapping page 34\n",
      "   ---> 3400 total reviews\n",
      "Scrapping page 35\n",
      "Error on page 35\n",
      "Error on page 35\n",
      "   ---> 3500 total reviews\n",
      "Scrapping page 36\n",
      "   ---> 3600 total reviews\n",
      "Scrapping page 37\n",
      "Error on page 37\n",
      "   ---> 3700 total reviews\n",
      "Scrapping page 38\n",
      "Error on page 38\n",
      "   ---> 3800 total reviews\n",
      "Scrapping page 39\n",
      "   ---> 3861 total reviews\n",
      "Scrapping page 40\n",
      "   ---> 3861 total reviews\n"
     ]
    }
   ],
   "source": [
    "base_url = \"https://www.airlinequality.com/airline-reviews/british-airways\"\n",
    "pages = 40\n",
    "page_size = 100\n",
    "\n",
    "for i in range (1, pages+1):\n",
    "    \n",
    "    print(f\"Scrapping page {i}\")\n",
    "    \n",
    "    url = f\"{base_url}/page/{i}/?sortby=post_date%3ADesc&pagesize={page_size}\"\n",
    "    \n",
    "    page = requests.get(url)\n",
    "    \n",
    "    soup = BeautifulSoup(page.content, \"html.parser\")\n",
    "    \n",
    "    #reviews\n",
    "    for item in soup.find_all(\"div\", class_=\"text_content\"):\n",
    "        reviews.append(item.text)\n",
    "        \n",
    "    #stars\n",
    "    for item in soup.find_all(\"div\", class_=\"rating-10\"):\n",
    "        try:\n",
    "            stars.append(item.span.text)\n",
    "        except:\n",
    "            print(f\"Error on page {i}\")\n",
    "            stars.append(\"None\")\n",
    "    \n",
    "    #date\n",
    "    for item in soup.find_all(\"time\"):\n",
    "        date.append(item.text)\n",
    "    \n",
    "    #country\n",
    "    for item in soup.find_all(\"h3\"):\n",
    "        country.append(item.span.next_sibling.text.strip(\" ()\"))\n",
    "        \n",
    "    print(f\"   ---> {len(reviews)} total reviews\")"
   ]
  },
  {
   "cell_type": "code",
   "execution_count": 4,
   "id": "546a4bd2-fcbb-4113-880d-8e69e3386a3c",
   "metadata": {
    "tags": []
   },
   "outputs": [
    {
     "data": {
      "text/plain": [
       "3861"
      ]
     },
     "execution_count": 4,
     "metadata": {},
     "output_type": "execute_result"
    }
   ],
   "source": [
    "len(reviews)"
   ]
  },
  {
   "cell_type": "code",
   "execution_count": 5,
   "id": "0b417ab8-d91a-4a36-81fb-55b83bd65d1c",
   "metadata": {
    "tags": []
   },
   "outputs": [
    {
     "data": {
      "text/plain": [
       "3861"
      ]
     },
     "execution_count": 5,
     "metadata": {},
     "output_type": "execute_result"
    }
   ],
   "source": [
    "len(country)"
   ]
  },
  {
   "cell_type": "code",
   "execution_count": 6,
   "id": "0ffa511a-b74f-4407-ae68-77ad742c449d",
   "metadata": {
    "tags": []
   },
   "outputs": [],
   "source": [
    "stars = stars[:len(reviews)]"
   ]
  },
  {
   "cell_type": "code",
   "execution_count": 7,
   "id": "70514dec-3d98-471d-bd0b-fdde1f64317b",
   "metadata": {
    "tags": []
   },
   "outputs": [],
   "source": [
    "df = pd.DataFrame({\"reviews\":reviews, \"stars\":stars, \"date\":date, \"country\":country})"
   ]
  },
  {
   "cell_type": "code",
   "execution_count": 8,
   "id": "1eb02d5b-de98-4c36-96c1-fd6aecbbd233",
   "metadata": {
    "tags": []
   },
   "outputs": [
    {
     "data": {
      "text/html": [
       "<div>\n",
       "<style scoped>\n",
       "    .dataframe tbody tr th:only-of-type {\n",
       "        vertical-align: middle;\n",
       "    }\n",
       "\n",
       "    .dataframe tbody tr th {\n",
       "        vertical-align: top;\n",
       "    }\n",
       "\n",
       "    .dataframe thead th {\n",
       "        text-align: right;\n",
       "    }\n",
       "</style>\n",
       "<table border=\"1\" class=\"dataframe\">\n",
       "  <thead>\n",
       "    <tr style=\"text-align: right;\">\n",
       "      <th></th>\n",
       "      <th>reviews</th>\n",
       "      <th>stars</th>\n",
       "      <th>date</th>\n",
       "      <th>country</th>\n",
       "    </tr>\n",
       "  </thead>\n",
       "  <tbody>\n",
       "    <tr>\n",
       "      <th>0</th>\n",
       "      <td>Not Verified |  My wife and I are very disappo...</td>\n",
       "      <td>\\n\\t\\t\\t\\t\\t\\t\\t\\t\\t\\t\\t\\t5</td>\n",
       "      <td>13th September 2024</td>\n",
       "      <td>United States</td>\n",
       "    </tr>\n",
       "    <tr>\n",
       "      <th>1</th>\n",
       "      <td>Not Verified |  We flew BA between Heathrow an...</td>\n",
       "      <td>1</td>\n",
       "      <td>13th September 2024</td>\n",
       "      <td>Australia</td>\n",
       "    </tr>\n",
       "    <tr>\n",
       "      <th>2</th>\n",
       "      <td>Not Verified |  Absolutely disgusted with BA. ...</td>\n",
       "      <td>8</td>\n",
       "      <td>13th September 2024</td>\n",
       "      <td>United Kingdom</td>\n",
       "    </tr>\n",
       "    <tr>\n",
       "      <th>3</th>\n",
       "      <td>Not Verified | Took a trip to Nashville with m...</td>\n",
       "      <td>1</td>\n",
       "      <td>11th September 2024</td>\n",
       "      <td>United Kingdom</td>\n",
       "    </tr>\n",
       "    <tr>\n",
       "      <th>4</th>\n",
       "      <td>Not Verified |  A nightmare journey courtesy o...</td>\n",
       "      <td>8</td>\n",
       "      <td>8th September 2024</td>\n",
       "      <td>United Kingdom</td>\n",
       "    </tr>\n",
       "  </tbody>\n",
       "</table>\n",
       "</div>"
      ],
      "text/plain": [
       "                                             reviews  \\\n",
       "0  Not Verified |  My wife and I are very disappo...   \n",
       "1  Not Verified |  We flew BA between Heathrow an...   \n",
       "2  Not Verified |  Absolutely disgusted with BA. ...   \n",
       "3  Not Verified | Took a trip to Nashville with m...   \n",
       "4  Not Verified |  A nightmare journey courtesy o...   \n",
       "\n",
       "                         stars                 date         country  \n",
       "0  \\n\\t\\t\\t\\t\\t\\t\\t\\t\\t\\t\\t\\t5  13th September 2024   United States  \n",
       "1                            1  13th September 2024       Australia  \n",
       "2                            8  13th September 2024  United Kingdom  \n",
       "3                            1  11th September 2024  United Kingdom  \n",
       "4                            8   8th September 2024  United Kingdom  "
      ]
     },
     "execution_count": 8,
     "metadata": {},
     "output_type": "execute_result"
    }
   ],
   "source": [
    "df.head()"
   ]
  },
  {
   "cell_type": "code",
   "execution_count": 9,
   "id": "39f27bd8-513e-4309-aeac-049d36748c12",
   "metadata": {
    "tags": []
   },
   "outputs": [
    {
     "data": {
      "text/plain": [
       "(3861, 4)"
      ]
     },
     "execution_count": 9,
     "metadata": {},
     "output_type": "execute_result"
    }
   ],
   "source": [
    "df.shape"
   ]
  },
  {
   "cell_type": "code",
   "execution_count": 10,
   "id": "a35c15bc-174c-4b49-945f-bfffc62fb3f0",
   "metadata": {
    "tags": []
   },
   "outputs": [],
   "source": [
    "df.to_csv(\"BA_Reviews.csv\")"
   ]
  },
  {
   "cell_type": "code",
   "execution_count": null,
   "id": "d93aff7b-06db-4569-86db-26429bec1c2f",
   "metadata": {},
   "outputs": [],
   "source": []
  }
 ],
 "metadata": {
  "kernelspec": {
   "display_name": "Python 3 (ipykernel)",
   "language": "python",
   "name": "python3"
  },
  "language_info": {
   "codemirror_mode": {
    "name": "ipython",
    "version": 3
   },
   "file_extension": ".py",
   "mimetype": "text/x-python",
   "name": "python",
   "nbconvert_exporter": "python",
   "pygments_lexer": "ipython3",
   "version": "3.10.0"
  }
 },
 "nbformat": 4,
 "nbformat_minor": 5
}
