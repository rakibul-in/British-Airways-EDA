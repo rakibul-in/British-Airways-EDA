{
 "cells": [
  {
   "cell_type": "code",
   "execution_count": 38,
   "id": "9bae5e52-f2c2-4757-a8d3-2cabdbe5bc8d",
   "metadata": {
    "tags": []
   },
   "outputs": [],
   "source": [
    "import pandas as pd\n",
    "import matplotlib.pyplot as plt\n",
    "import seaborn as sns\n",
    "%matplotlib inline\n",
    "\n",
    "import re"
   ]
  },
  {
   "cell_type": "code",
   "execution_count": 2,
   "id": "6e86df56-19b6-4362-af1c-921bfd74b9c3",
   "metadata": {
    "tags": []
   },
   "outputs": [
    {
     "data": {
      "text/html": [
       "<div>\n",
       "<style scoped>\n",
       "    .dataframe tbody tr th:only-of-type {\n",
       "        vertical-align: middle;\n",
       "    }\n",
       "\n",
       "    .dataframe tbody tr th {\n",
       "        vertical-align: top;\n",
       "    }\n",
       "\n",
       "    .dataframe thead th {\n",
       "        text-align: right;\n",
       "    }\n",
       "</style>\n",
       "<table border=\"1\" class=\"dataframe\">\n",
       "  <thead>\n",
       "    <tr style=\"text-align: right;\">\n",
       "      <th></th>\n",
       "      <th>reviews</th>\n",
       "      <th>stars</th>\n",
       "      <th>date</th>\n",
       "      <th>country</th>\n",
       "    </tr>\n",
       "  </thead>\n",
       "  <tbody>\n",
       "    <tr>\n",
       "      <th>0</th>\n",
       "      <td>Not Verified |  The customer service is one of...</td>\n",
       "      <td>5.0</td>\n",
       "      <td>18th August 2024</td>\n",
       "      <td>United States</td>\n",
       "    </tr>\n",
       "    <tr>\n",
       "      <th>1</th>\n",
       "      <td>Not Verified | Before my flight, I was forced ...</td>\n",
       "      <td>2.0</td>\n",
       "      <td>15th August 2024</td>\n",
       "      <td>United Kingdom</td>\n",
       "    </tr>\n",
       "    <tr>\n",
       "      <th>2</th>\n",
       "      <td>✅ Trip Verified |   British Airways at its bes...</td>\n",
       "      <td>1.0</td>\n",
       "      <td>12th August 2024</td>\n",
       "      <td>United Kingdom</td>\n",
       "    </tr>\n",
       "    <tr>\n",
       "      <th>3</th>\n",
       "      <td>✅ Trip Verified | An excellent flight! Despite...</td>\n",
       "      <td>8.0</td>\n",
       "      <td>12th August 2024</td>\n",
       "      <td>Lebanon</td>\n",
       "    </tr>\n",
       "    <tr>\n",
       "      <th>4</th>\n",
       "      <td>✅ Trip Verified | I recently traveled with Bri...</td>\n",
       "      <td>8.0</td>\n",
       "      <td>11th August 2024</td>\n",
       "      <td>United States</td>\n",
       "    </tr>\n",
       "    <tr>\n",
       "      <th>...</th>\n",
       "      <td>...</td>\n",
       "      <td>...</td>\n",
       "      <td>...</td>\n",
       "      <td>...</td>\n",
       "    </tr>\n",
       "    <tr>\n",
       "      <th>3837</th>\n",
       "      <td>YYZ to LHR - July 2012 - I flew overnight in p...</td>\n",
       "      <td>9.0</td>\n",
       "      <td>29th August 2012</td>\n",
       "      <td>Canada</td>\n",
       "    </tr>\n",
       "    <tr>\n",
       "      <th>3838</th>\n",
       "      <td>LHR to HAM. Purser addresses all club passenge...</td>\n",
       "      <td>5.0</td>\n",
       "      <td>28th August 2012</td>\n",
       "      <td>United Kingdom</td>\n",
       "    </tr>\n",
       "    <tr>\n",
       "      <th>3839</th>\n",
       "      <td>My son who had worked for British Airways urge...</td>\n",
       "      <td>8.0</td>\n",
       "      <td>12th October 2011</td>\n",
       "      <td>United Kingdom</td>\n",
       "    </tr>\n",
       "    <tr>\n",
       "      <th>3840</th>\n",
       "      <td>London City-New York JFK via Shannon on A318 b...</td>\n",
       "      <td>2.0</td>\n",
       "      <td>11th October 2011</td>\n",
       "      <td>United States</td>\n",
       "    </tr>\n",
       "    <tr>\n",
       "      <th>3841</th>\n",
       "      <td>SIN-LHR BA12 B747-436 First Class. Old aircraf...</td>\n",
       "      <td>7.0</td>\n",
       "      <td>9th October 2011</td>\n",
       "      <td>United Kingdom</td>\n",
       "    </tr>\n",
       "  </tbody>\n",
       "</table>\n",
       "<p>3842 rows × 4 columns</p>\n",
       "</div>"
      ],
      "text/plain": [
       "                                                reviews  stars  \\\n",
       "0     Not Verified |  The customer service is one of...    5.0   \n",
       "1     Not Verified | Before my flight, I was forced ...    2.0   \n",
       "2     ✅ Trip Verified |   British Airways at its bes...    1.0   \n",
       "3     ✅ Trip Verified | An excellent flight! Despite...    8.0   \n",
       "4     ✅ Trip Verified | I recently traveled with Bri...    8.0   \n",
       "...                                                 ...    ...   \n",
       "3837  YYZ to LHR - July 2012 - I flew overnight in p...    9.0   \n",
       "3838  LHR to HAM. Purser addresses all club passenge...    5.0   \n",
       "3839  My son who had worked for British Airways urge...    8.0   \n",
       "3840  London City-New York JFK via Shannon on A318 b...    2.0   \n",
       "3841  SIN-LHR BA12 B747-436 First Class. Old aircraf...    7.0   \n",
       "\n",
       "                   date         country  \n",
       "0      18th August 2024   United States  \n",
       "1      15th August 2024  United Kingdom  \n",
       "2      12th August 2024  United Kingdom  \n",
       "3      12th August 2024         Lebanon  \n",
       "4      11th August 2024   United States  \n",
       "...                 ...             ...  \n",
       "3837   29th August 2012          Canada  \n",
       "3838   28th August 2012  United Kingdom  \n",
       "3839  12th October 2011  United Kingdom  \n",
       "3840  11th October 2011   United States  \n",
       "3841   9th October 2011  United Kingdom  \n",
       "\n",
       "[3842 rows x 4 columns]"
      ]
     },
     "execution_count": 2,
     "metadata": {},
     "output_type": "execute_result"
    }
   ],
   "source": [
    "df = pd.read_csv(\"BA_reviews.csv\", index_col=0)\n",
    "df"
   ]
  },
  {
   "cell_type": "code",
   "execution_count": 3,
   "id": "8b5b5207-08ac-40ad-b0c5-81b65d0c7853",
   "metadata": {
    "tags": []
   },
   "outputs": [
    {
     "data": {
      "text/html": [
       "<div>\n",
       "<style scoped>\n",
       "    .dataframe tbody tr th:only-of-type {\n",
       "        vertical-align: middle;\n",
       "    }\n",
       "\n",
       "    .dataframe tbody tr th {\n",
       "        vertical-align: top;\n",
       "    }\n",
       "\n",
       "    .dataframe thead th {\n",
       "        text-align: right;\n",
       "    }\n",
       "</style>\n",
       "<table border=\"1\" class=\"dataframe\">\n",
       "  <thead>\n",
       "    <tr style=\"text-align: right;\">\n",
       "      <th></th>\n",
       "      <th>reviews</th>\n",
       "      <th>stars</th>\n",
       "      <th>date</th>\n",
       "      <th>country</th>\n",
       "    </tr>\n",
       "  </thead>\n",
       "  <tbody>\n",
       "    <tr>\n",
       "      <th>0</th>\n",
       "      <td>Not Verified |  The customer service is one of...</td>\n",
       "      <td>5.0</td>\n",
       "      <td>18th August 2024</td>\n",
       "      <td>United States</td>\n",
       "    </tr>\n",
       "    <tr>\n",
       "      <th>1</th>\n",
       "      <td>Not Verified | Before my flight, I was forced ...</td>\n",
       "      <td>2.0</td>\n",
       "      <td>15th August 2024</td>\n",
       "      <td>United Kingdom</td>\n",
       "    </tr>\n",
       "    <tr>\n",
       "      <th>2</th>\n",
       "      <td>✅ Trip Verified |   British Airways at its bes...</td>\n",
       "      <td>1.0</td>\n",
       "      <td>12th August 2024</td>\n",
       "      <td>United Kingdom</td>\n",
       "    </tr>\n",
       "    <tr>\n",
       "      <th>3</th>\n",
       "      <td>✅ Trip Verified | An excellent flight! Despite...</td>\n",
       "      <td>8.0</td>\n",
       "      <td>12th August 2024</td>\n",
       "      <td>Lebanon</td>\n",
       "    </tr>\n",
       "    <tr>\n",
       "      <th>4</th>\n",
       "      <td>✅ Trip Verified | I recently traveled with Bri...</td>\n",
       "      <td>8.0</td>\n",
       "      <td>11th August 2024</td>\n",
       "      <td>United States</td>\n",
       "    </tr>\n",
       "  </tbody>\n",
       "</table>\n",
       "</div>"
      ],
      "text/plain": [
       "                                             reviews  stars              date  \\\n",
       "0  Not Verified |  The customer service is one of...    5.0  18th August 2024   \n",
       "1  Not Verified | Before my flight, I was forced ...    2.0  15th August 2024   \n",
       "2  ✅ Trip Verified |   British Airways at its bes...    1.0  12th August 2024   \n",
       "3  ✅ Trip Verified | An excellent flight! Despite...    8.0  12th August 2024   \n",
       "4  ✅ Trip Verified | I recently traveled with Bri...    8.0  11th August 2024   \n",
       "\n",
       "          country  \n",
       "0   United States  \n",
       "1  United Kingdom  \n",
       "2  United Kingdom  \n",
       "3         Lebanon  \n",
       "4   United States  "
      ]
     },
     "execution_count": 3,
     "metadata": {},
     "output_type": "execute_result"
    }
   ],
   "source": [
    "df.head()"
   ]
  },
  {
   "cell_type": "code",
   "execution_count": 4,
   "id": "4f32094f-7bcb-4b16-b1ed-e630e666b6a6",
   "metadata": {
    "tags": []
   },
   "outputs": [
    {
     "data": {
      "text/plain": [
       "(3842, 4)"
      ]
     },
     "execution_count": 4,
     "metadata": {},
     "output_type": "execute_result"
    }
   ],
   "source": [
    "df.shape"
   ]
  },
  {
   "cell_type": "code",
   "execution_count": 5,
   "id": "c3fba037-ae6a-4fd5-a478-689956313a31",
   "metadata": {
    "tags": []
   },
   "outputs": [
    {
     "data": {
      "text/plain": [
       "0       False\n",
       "1       False\n",
       "2        True\n",
       "3        True\n",
       "4        True\n",
       "        ...  \n",
       "3837    False\n",
       "3838    False\n",
       "3839    False\n",
       "3840    False\n",
       "3841    False\n",
       "Name: verified, Length: 3842, dtype: bool"
      ]
     },
     "execution_count": 5,
     "metadata": {},
     "output_type": "execute_result"
    }
   ],
   "source": [
    "df['verified'] = df.reviews.str.contains(\"Trip Verified\")\n",
    "df['verified']"
   ]
  },
  {
   "cell_type": "code",
   "execution_count": 6,
   "id": "721d54b5-98ec-4b79-b116-45e90a5fe909",
   "metadata": {
    "tags": []
   },
   "outputs": [
    {
     "data": {
      "text/plain": [
       "(3842, 5)"
      ]
     },
     "execution_count": 6,
     "metadata": {},
     "output_type": "execute_result"
    }
   ],
   "source": [
    "df.shape"
   ]
  },
  {
   "cell_type": "code",
   "execution_count": 8,
   "id": "68aa280d-5889-4c03-b225-5e668beca3a0",
   "metadata": {
    "tags": []
   },
   "outputs": [
    {
     "name": "stderr",
     "output_type": "stream",
     "text": [
      "[nltk_data] Downloading package stopwords to\n",
      "[nltk_data]     /Users/rakibulhasan/nltk_data...\n",
      "[nltk_data]   Package stopwords is already up-to-date!\n",
      "[nltk_data] Downloading package wordnet to\n",
      "[nltk_data]     /Users/rakibulhasan/nltk_data...\n",
      "[nltk_data]   Package wordnet is already up-to-date!\n"
     ]
    },
    {
     "data": {
      "text/plain": [
       "True"
      ]
     },
     "execution_count": 8,
     "metadata": {},
     "output_type": "execute_result"
    }
   ],
   "source": [
    "import nltk\n",
    "nltk.download(\"stopwords\")\n",
    "nltk.download(\"wordnet\")"
   ]
  },
  {
   "cell_type": "code",
   "execution_count": 9,
   "id": "0a7cb892-a602-4eb3-a5e4-49a945b6fbb4",
   "metadata": {
    "tags": []
   },
   "outputs": [],
   "source": [
    "from nltk.stem import WordNetLemmatizer\n",
    "from nltk.corpus import stopwords\n",
    "lemma = WordNetLemmatizer()\n",
    "\n",
    "reviews_data = df.reviews.str.strip(\"✅ Trip Verified |\")\n",
    "\n",
    "corpus = []\n",
    "\n",
    "for rev in reviews_data:\n",
    "    rev = re.sub(\"[^a-zA-Z]\", \" \", rev)\n",
    "    rev = rev.lower()\n",
    "    rev = rev.split()\n",
    "    rev = [lemma.lemmatize(word) for word in rev if word not in set(stopwords.words(\"english\"))]\n",
    "    rev = \" \".join(rev)\n",
    "    corpus.append(rev)"
   ]
  },
  {
   "cell_type": "code",
   "execution_count": 10,
   "id": "42db2636-c237-4475-8086-fd1ae44211a2",
   "metadata": {
    "tags": []
   },
   "outputs": [],
   "source": [
    "df['corpus'] = corpus"
   ]
  },
  {
   "cell_type": "code",
   "execution_count": 11,
   "id": "695bfbba-b179-4c46-9d9e-2bb2181460db",
   "metadata": {
    "tags": []
   },
   "outputs": [
    {
     "data": {
      "text/html": [
       "<div>\n",
       "<style scoped>\n",
       "    .dataframe tbody tr th:only-of-type {\n",
       "        vertical-align: middle;\n",
       "    }\n",
       "\n",
       "    .dataframe tbody tr th {\n",
       "        vertical-align: top;\n",
       "    }\n",
       "\n",
       "    .dataframe thead th {\n",
       "        text-align: right;\n",
       "    }\n",
       "</style>\n",
       "<table border=\"1\" class=\"dataframe\">\n",
       "  <thead>\n",
       "    <tr style=\"text-align: right;\">\n",
       "      <th></th>\n",
       "      <th>reviews</th>\n",
       "      <th>stars</th>\n",
       "      <th>date</th>\n",
       "      <th>country</th>\n",
       "      <th>verified</th>\n",
       "      <th>corpus</th>\n",
       "    </tr>\n",
       "  </thead>\n",
       "  <tbody>\n",
       "    <tr>\n",
       "      <th>0</th>\n",
       "      <td>Not Verified |  The customer service is one of...</td>\n",
       "      <td>5.0</td>\n",
       "      <td>18th August 2024</td>\n",
       "      <td>United States</td>\n",
       "      <td>False</td>\n",
       "      <td>verified customer service one worst ever seen ...</td>\n",
       "    </tr>\n",
       "    <tr>\n",
       "      <th>1</th>\n",
       "      <td>Not Verified | Before my flight, I was forced ...</td>\n",
       "      <td>2.0</td>\n",
       "      <td>15th August 2024</td>\n",
       "      <td>United Kingdom</td>\n",
       "      <td>False</td>\n",
       "      <td>verified flight forced ground staff check new ...</td>\n",
       "    </tr>\n",
       "    <tr>\n",
       "      <th>2</th>\n",
       "      <td>✅ Trip Verified |   British Airways at its bes...</td>\n",
       "      <td>1.0</td>\n",
       "      <td>12th August 2024</td>\n",
       "      <td>United Kingdom</td>\n",
       "      <td>True</td>\n",
       "      <td>british airway best outstanding service flight...</td>\n",
       "    </tr>\n",
       "    <tr>\n",
       "      <th>3</th>\n",
       "      <td>✅ Trip Verified | An excellent flight! Despite...</td>\n",
       "      <td>8.0</td>\n",
       "      <td>12th August 2024</td>\n",
       "      <td>Lebanon</td>\n",
       "      <td>True</td>\n",
       "      <td>excellent flight despite hour flight configure...</td>\n",
       "    </tr>\n",
       "    <tr>\n",
       "      <th>4</th>\n",
       "      <td>✅ Trip Verified | I recently traveled with Bri...</td>\n",
       "      <td>8.0</td>\n",
       "      <td>11th August 2024</td>\n",
       "      <td>United States</td>\n",
       "      <td>True</td>\n",
       "      <td>recently traveled british airway mixed experie...</td>\n",
       "    </tr>\n",
       "  </tbody>\n",
       "</table>\n",
       "</div>"
      ],
      "text/plain": [
       "                                             reviews  stars              date  \\\n",
       "0  Not Verified |  The customer service is one of...    5.0  18th August 2024   \n",
       "1  Not Verified | Before my flight, I was forced ...    2.0  15th August 2024   \n",
       "2  ✅ Trip Verified |   British Airways at its bes...    1.0  12th August 2024   \n",
       "3  ✅ Trip Verified | An excellent flight! Despite...    8.0  12th August 2024   \n",
       "4  ✅ Trip Verified | I recently traveled with Bri...    8.0  11th August 2024   \n",
       "\n",
       "          country  verified                                             corpus  \n",
       "0   United States     False  verified customer service one worst ever seen ...  \n",
       "1  United Kingdom     False  verified flight forced ground staff check new ...  \n",
       "2  United Kingdom      True  british airway best outstanding service flight...  \n",
       "3         Lebanon      True  excellent flight despite hour flight configure...  \n",
       "4   United States      True  recently traveled british airway mixed experie...  "
      ]
     },
     "execution_count": 11,
     "metadata": {},
     "output_type": "execute_result"
    }
   ],
   "source": [
    "df.head()"
   ]
  },
  {
   "cell_type": "code",
   "execution_count": 12,
   "id": "7fb5c2ed-7b3e-4390-8810-ff9aae9e19d2",
   "metadata": {
    "tags": []
   },
   "outputs": [
    {
     "data": {
      "text/plain": [
       "(3842, 6)"
      ]
     },
     "execution_count": 12,
     "metadata": {},
     "output_type": "execute_result"
    }
   ],
   "source": [
    "df.shape"
   ]
  },
  {
   "cell_type": "code",
   "execution_count": 13,
   "id": "145e97b8-c61f-455a-80c1-f0f2e2d1fc16",
   "metadata": {
    "tags": []
   },
   "outputs": [
    {
     "data": {
      "text/plain": [
       "reviews      object\n",
       "stars       float64\n",
       "date         object\n",
       "country      object\n",
       "verified       bool\n",
       "corpus       object\n",
       "dtype: object"
      ]
     },
     "execution_count": 13,
     "metadata": {},
     "output_type": "execute_result"
    }
   ],
   "source": [
    "df.dtypes"
   ]
  },
  {
   "cell_type": "code",
   "execution_count": 14,
   "id": "5fedcf6c-5369-4bb8-a1e4-9bddd14f457d",
   "metadata": {
    "tags": []
   },
   "outputs": [],
   "source": [
    "df.date = pd.to_datetime(df.date, format='mixed')"
   ]
  },
  {
   "cell_type": "code",
   "execution_count": 15,
   "id": "c68c0c5b-d38c-4952-8317-96d877c2d803",
   "metadata": {
    "tags": []
   },
   "outputs": [
    {
     "data": {
      "text/plain": [
       "0   2024-08-18\n",
       "1   2024-08-15\n",
       "2   2024-08-12\n",
       "3   2024-08-12\n",
       "4   2024-08-11\n",
       "Name: date, dtype: datetime64[ns]"
      ]
     },
     "execution_count": 15,
     "metadata": {},
     "output_type": "execute_result"
    }
   ],
   "source": [
    "df.date.head()"
   ]
  },
  {
   "cell_type": "code",
   "execution_count": 16,
   "id": "9c19aae7-6e31-4106-8a9d-465e053d61c2",
   "metadata": {
    "tags": []
   },
   "outputs": [
    {
     "data": {
      "text/plain": [
       "reviews             object\n",
       "stars              float64\n",
       "date        datetime64[ns]\n",
       "country             object\n",
       "verified              bool\n",
       "corpus              object\n",
       "dtype: object"
      ]
     },
     "execution_count": 16,
     "metadata": {},
     "output_type": "execute_result"
    }
   ],
   "source": [
    "df.dtypes"
   ]
  },
  {
   "cell_type": "code",
   "execution_count": 17,
   "id": "9075fc2d-458a-4ce2-8298-0c1f59f9922c",
   "metadata": {
    "tags": []
   },
   "outputs": [
    {
     "data": {
      "text/plain": [
       "array([ 5.,  2.,  1.,  8.,  3., 10.,  6.,  9.,  7.,  4., nan])"
      ]
     },
     "execution_count": 17,
     "metadata": {},
     "output_type": "execute_result"
    }
   ],
   "source": [
    "df.stars.unique()"
   ]
  },
  {
   "cell_type": "code",
   "execution_count": 18,
   "id": "37fb1056-9088-468a-af88-2bf5ece7bf06",
   "metadata": {
    "tags": []
   },
   "outputs": [
    {
     "data": {
      "text/plain": [
       "reviews  stars  date   country  verified  corpus\n",
       "False    False  False  False    False     False     3834\n",
       "         True   False  False    False     False        5\n",
       "         False  False  True     False     False        3\n",
       "Name: count, dtype: int64"
      ]
     },
     "execution_count": 18,
     "metadata": {},
     "output_type": "execute_result"
    }
   ],
   "source": [
    "df.isnull().value_counts()"
   ]
  },
  {
   "cell_type": "code",
   "execution_count": 19,
   "id": "bee8a178-2127-4c4c-94c1-9956624535d8",
   "metadata": {
    "tags": []
   },
   "outputs": [
    {
     "data": {
      "text/plain": [
       "stars\n",
       "1.0     912\n",
       "2.0     437\n",
       "3.0     423\n",
       "8.0     377\n",
       "10.0    332\n",
       "7.0     316\n",
       "9.0     315\n",
       "5.0     276\n",
       "4.0     251\n",
       "6.0     198\n",
       "Name: count, dtype: int64"
      ]
     },
     "execution_count": 19,
     "metadata": {},
     "output_type": "execute_result"
    }
   ],
   "source": [
    "df.stars.value_counts()"
   ]
  },
  {
   "cell_type": "code",
   "execution_count": 20,
   "id": "b93247e2-83fa-4740-ad23-ac5580643f6e",
   "metadata": {
    "tags": []
   },
   "outputs": [
    {
     "data": {
      "text/plain": [
       "reviews     0\n",
       "stars       5\n",
       "date        0\n",
       "country     3\n",
       "verified    0\n",
       "corpus      0\n",
       "dtype: int64"
      ]
     },
     "execution_count": 20,
     "metadata": {},
     "output_type": "execute_result"
    }
   ],
   "source": [
    "df.isnull().sum()"
   ]
  },
  {
   "cell_type": "code",
   "execution_count": 21,
   "id": "df896e38-e3d5-4339-b03f-0eddb90dc1d0",
   "metadata": {
    "tags": []
   },
   "outputs": [
    {
     "data": {
      "text/plain": [
       "reviews  stars  date   country  verified  corpus\n",
       "False    False  False  False    False     False     3834\n",
       "         True   False  False    False     False        5\n",
       "         False  False  True     False     False        3\n",
       "Name: count, dtype: int64"
      ]
     },
     "execution_count": 21,
     "metadata": {},
     "output_type": "execute_result"
    }
   ],
   "source": [
    "df.isnull().value_counts()"
   ]
  },
  {
   "cell_type": "code",
   "execution_count": 22,
   "id": "3cf1d028-de2b-4c6d-a210-d63d15b057c6",
   "metadata": {
    "tags": []
   },
   "outputs": [
    {
     "data": {
      "text/plain": [
       "np.int64(0)"
      ]
     },
     "execution_count": 22,
     "metadata": {},
     "output_type": "execute_result"
    }
   ],
   "source": [
    "df.drop(df[df.stars.isnull() == True].index, axis=0,inplace=True)\n",
    "df.stars.isnull().sum()"
   ]
  },
  {
   "cell_type": "code",
   "execution_count": 23,
   "id": "69dfd7b3-2055-4bba-a053-6bd1878218d3",
   "metadata": {
    "tags": []
   },
   "outputs": [
    {
     "data": {
      "text/plain": [
       "array([ 5.,  2.,  1.,  8.,  3., 10.,  6.,  9.,  7.,  4.])"
      ]
     },
     "execution_count": 23,
     "metadata": {},
     "output_type": "execute_result"
    }
   ],
   "source": [
    "df.stars.unique()"
   ]
  },
  {
   "cell_type": "code",
   "execution_count": 24,
   "id": "dc40f20e-15bd-45a3-be51-54f2867b6b4b",
   "metadata": {
    "tags": []
   },
   "outputs": [
    {
     "data": {
      "text/plain": [
       "reviews     0\n",
       "stars       0\n",
       "date        0\n",
       "country     3\n",
       "verified    0\n",
       "corpus      0\n",
       "dtype: int64"
      ]
     },
     "execution_count": 24,
     "metadata": {},
     "output_type": "execute_result"
    }
   ],
   "source": [
    "df.isnull().sum()"
   ]
  },
  {
   "cell_type": "code",
   "execution_count": 25,
   "id": "da83b81e-ba84-4f59-b1d4-57a9781589ea",
   "metadata": {
    "tags": []
   },
   "outputs": [
    {
     "data": {
      "text/plain": [
       "np.int64(3)"
      ]
     },
     "execution_count": 25,
     "metadata": {},
     "output_type": "execute_result"
    }
   ],
   "source": [
    "df.country.isnull().sum()"
   ]
  },
  {
   "cell_type": "code",
   "execution_count": 26,
   "id": "ca8dadf1-3123-4b63-9308-5fc3490b0702",
   "metadata": {
    "tags": []
   },
   "outputs": [
    {
     "data": {
      "text/plain": [
       "country\n",
       "False    3834\n",
       "True        3\n",
       "Name: count, dtype: int64"
      ]
     },
     "execution_count": 26,
     "metadata": {},
     "output_type": "execute_result"
    }
   ],
   "source": [
    "df.country.isnull().value_counts()"
   ]
  },
  {
   "cell_type": "code",
   "execution_count": 27,
   "id": "711338fe-800a-49dc-a87d-4e5cb2626cde",
   "metadata": {
    "tags": []
   },
   "outputs": [],
   "source": [
    "df.drop(df[df.country.isnull() == True].index, axis=0, inplace=True)"
   ]
  },
  {
   "cell_type": "code",
   "execution_count": 28,
   "id": "a0fecdac-cdd4-4cf9-bfce-396dc6f936c8",
   "metadata": {
    "tags": []
   },
   "outputs": [
    {
     "data": {
      "text/plain": [
       "reviews     0\n",
       "stars       0\n",
       "date        0\n",
       "country     0\n",
       "verified    0\n",
       "corpus      0\n",
       "dtype: int64"
      ]
     },
     "execution_count": 28,
     "metadata": {},
     "output_type": "execute_result"
    }
   ],
   "source": [
    "df.isnull().sum()"
   ]
  },
  {
   "cell_type": "code",
   "execution_count": 29,
   "id": "bc9c419e-a54e-45b5-a4f0-87770758d9a2",
   "metadata": {
    "tags": []
   },
   "outputs": [
    {
     "data": {
      "text/plain": [
       "reviews             object\n",
       "stars              float64\n",
       "date        datetime64[ns]\n",
       "country             object\n",
       "verified              bool\n",
       "corpus              object\n",
       "dtype: object"
      ]
     },
     "execution_count": 29,
     "metadata": {},
     "output_type": "execute_result"
    }
   ],
   "source": [
    "df.dtypes"
   ]
  },
  {
   "cell_type": "code",
   "execution_count": 30,
   "id": "50314a07-937c-49ee-854b-f630e3524e0f",
   "metadata": {
    "tags": []
   },
   "outputs": [
    {
     "data": {
      "text/plain": [
       "country\n",
       "United Kingdom           2400\n",
       "United States             439\n",
       "Australia                 163\n",
       "Canada                    123\n",
       "Germany                    67\n",
       "                         ... \n",
       "Costa Rica                  1\n",
       "Cayman Islands              1\n",
       "Saint Kitts and Nevis       1\n",
       "Vietnam                     1\n",
       "Oman                        1\n",
       "Name: count, Length: 73, dtype: int64"
      ]
     },
     "execution_count": 30,
     "metadata": {},
     "output_type": "execute_result"
    }
   ],
   "source": [
    "df.country.value_counts()"
   ]
  },
  {
   "cell_type": "code",
   "execution_count": 31,
   "id": "61ae7a68-efb5-44f0-bc79-3c946fe77278",
   "metadata": {
    "tags": []
   },
   "outputs": [
    {
     "data": {
      "text/plain": [
       "(3834, 6)"
      ]
     },
     "execution_count": 31,
     "metadata": {},
     "output_type": "execute_result"
    }
   ],
   "source": [
    "df.shape"
   ]
  },
  {
   "cell_type": "code",
   "execution_count": 32,
   "id": "dbe84235-e063-49ae-8b65-ed02759bb766",
   "metadata": {
    "tags": []
   },
   "outputs": [],
   "source": [
    "df.reset_index(drop=True, inplace=True)"
   ]
  },
  {
   "cell_type": "code",
   "execution_count": 33,
   "id": "c138983c-916d-4414-94e7-3bd52293bec0",
   "metadata": {
    "tags": []
   },
   "outputs": [
    {
     "data": {
      "text/html": [
       "<div>\n",
       "<style scoped>\n",
       "    .dataframe tbody tr th:only-of-type {\n",
       "        vertical-align: middle;\n",
       "    }\n",
       "\n",
       "    .dataframe tbody tr th {\n",
       "        vertical-align: top;\n",
       "    }\n",
       "\n",
       "    .dataframe thead th {\n",
       "        text-align: right;\n",
       "    }\n",
       "</style>\n",
       "<table border=\"1\" class=\"dataframe\">\n",
       "  <thead>\n",
       "    <tr style=\"text-align: right;\">\n",
       "      <th></th>\n",
       "      <th>reviews</th>\n",
       "      <th>stars</th>\n",
       "      <th>date</th>\n",
       "      <th>country</th>\n",
       "      <th>verified</th>\n",
       "      <th>corpus</th>\n",
       "    </tr>\n",
       "  </thead>\n",
       "  <tbody>\n",
       "    <tr>\n",
       "      <th>0</th>\n",
       "      <td>Not Verified |  The customer service is one of...</td>\n",
       "      <td>5.0</td>\n",
       "      <td>2024-08-18</td>\n",
       "      <td>United States</td>\n",
       "      <td>False</td>\n",
       "      <td>verified customer service one worst ever seen ...</td>\n",
       "    </tr>\n",
       "    <tr>\n",
       "      <th>1</th>\n",
       "      <td>Not Verified | Before my flight, I was forced ...</td>\n",
       "      <td>2.0</td>\n",
       "      <td>2024-08-15</td>\n",
       "      <td>United Kingdom</td>\n",
       "      <td>False</td>\n",
       "      <td>verified flight forced ground staff check new ...</td>\n",
       "    </tr>\n",
       "    <tr>\n",
       "      <th>2</th>\n",
       "      <td>✅ Trip Verified |   British Airways at its bes...</td>\n",
       "      <td>1.0</td>\n",
       "      <td>2024-08-12</td>\n",
       "      <td>United Kingdom</td>\n",
       "      <td>True</td>\n",
       "      <td>british airway best outstanding service flight...</td>\n",
       "    </tr>\n",
       "    <tr>\n",
       "      <th>3</th>\n",
       "      <td>✅ Trip Verified | An excellent flight! Despite...</td>\n",
       "      <td>8.0</td>\n",
       "      <td>2024-08-12</td>\n",
       "      <td>Lebanon</td>\n",
       "      <td>True</td>\n",
       "      <td>excellent flight despite hour flight configure...</td>\n",
       "    </tr>\n",
       "    <tr>\n",
       "      <th>4</th>\n",
       "      <td>✅ Trip Verified | I recently traveled with Bri...</td>\n",
       "      <td>8.0</td>\n",
       "      <td>2024-08-11</td>\n",
       "      <td>United States</td>\n",
       "      <td>True</td>\n",
       "      <td>recently traveled british airway mixed experie...</td>\n",
       "    </tr>\n",
       "    <tr>\n",
       "      <th>...</th>\n",
       "      <td>...</td>\n",
       "      <td>...</td>\n",
       "      <td>...</td>\n",
       "      <td>...</td>\n",
       "      <td>...</td>\n",
       "      <td>...</td>\n",
       "    </tr>\n",
       "    <tr>\n",
       "      <th>3829</th>\n",
       "      <td>YYZ to LHR - July 2012 - I flew overnight in p...</td>\n",
       "      <td>9.0</td>\n",
       "      <td>2012-08-29</td>\n",
       "      <td>Canada</td>\n",
       "      <td>False</td>\n",
       "      <td>yyz lhr july flew overnight premium economy ch...</td>\n",
       "    </tr>\n",
       "    <tr>\n",
       "      <th>3830</th>\n",
       "      <td>LHR to HAM. Purser addresses all club passenge...</td>\n",
       "      <td>5.0</td>\n",
       "      <td>2012-08-28</td>\n",
       "      <td>United Kingdom</td>\n",
       "      <td>False</td>\n",
       "      <td>lhr ham purser address club passenger name boa...</td>\n",
       "    </tr>\n",
       "    <tr>\n",
       "      <th>3831</th>\n",
       "      <td>My son who had worked for British Airways urge...</td>\n",
       "      <td>8.0</td>\n",
       "      <td>2011-10-12</td>\n",
       "      <td>United Kingdom</td>\n",
       "      <td>False</td>\n",
       "      <td>son worked british airway urged fly british ai...</td>\n",
       "    </tr>\n",
       "    <tr>\n",
       "      <th>3832</th>\n",
       "      <td>London City-New York JFK via Shannon on A318 b...</td>\n",
       "      <td>2.0</td>\n",
       "      <td>2011-10-11</td>\n",
       "      <td>United States</td>\n",
       "      <td>False</td>\n",
       "      <td>london city new york jfk via shannon really ni...</td>\n",
       "    </tr>\n",
       "    <tr>\n",
       "      <th>3833</th>\n",
       "      <td>SIN-LHR BA12 B747-436 First Class. Old aircraf...</td>\n",
       "      <td>7.0</td>\n",
       "      <td>2011-10-09</td>\n",
       "      <td>United Kingdom</td>\n",
       "      <td>False</td>\n",
       "      <td>sin lhr ba b first class old aircraft seat pri...</td>\n",
       "    </tr>\n",
       "  </tbody>\n",
       "</table>\n",
       "<p>3834 rows × 6 columns</p>\n",
       "</div>"
      ],
      "text/plain": [
       "                                                reviews  stars       date  \\\n",
       "0     Not Verified |  The customer service is one of...    5.0 2024-08-18   \n",
       "1     Not Verified | Before my flight, I was forced ...    2.0 2024-08-15   \n",
       "2     ✅ Trip Verified |   British Airways at its bes...    1.0 2024-08-12   \n",
       "3     ✅ Trip Verified | An excellent flight! Despite...    8.0 2024-08-12   \n",
       "4     ✅ Trip Verified | I recently traveled with Bri...    8.0 2024-08-11   \n",
       "...                                                 ...    ...        ...   \n",
       "3829  YYZ to LHR - July 2012 - I flew overnight in p...    9.0 2012-08-29   \n",
       "3830  LHR to HAM. Purser addresses all club passenge...    5.0 2012-08-28   \n",
       "3831  My son who had worked for British Airways urge...    8.0 2011-10-12   \n",
       "3832  London City-New York JFK via Shannon on A318 b...    2.0 2011-10-11   \n",
       "3833  SIN-LHR BA12 B747-436 First Class. Old aircraf...    7.0 2011-10-09   \n",
       "\n",
       "             country  verified  \\\n",
       "0      United States     False   \n",
       "1     United Kingdom     False   \n",
       "2     United Kingdom      True   \n",
       "3            Lebanon      True   \n",
       "4      United States      True   \n",
       "...              ...       ...   \n",
       "3829          Canada     False   \n",
       "3830  United Kingdom     False   \n",
       "3831  United Kingdom     False   \n",
       "3832   United States     False   \n",
       "3833  United Kingdom     False   \n",
       "\n",
       "                                                 corpus  \n",
       "0     verified customer service one worst ever seen ...  \n",
       "1     verified flight forced ground staff check new ...  \n",
       "2     british airway best outstanding service flight...  \n",
       "3     excellent flight despite hour flight configure...  \n",
       "4     recently traveled british airway mixed experie...  \n",
       "...                                                 ...  \n",
       "3829  yyz lhr july flew overnight premium economy ch...  \n",
       "3830  lhr ham purser address club passenger name boa...  \n",
       "3831  son worked british airway urged fly british ai...  \n",
       "3832  london city new york jfk via shannon really ni...  \n",
       "3833  sin lhr ba b first class old aircraft seat pri...  \n",
       "\n",
       "[3834 rows x 6 columns]"
      ]
     },
     "execution_count": 33,
     "metadata": {},
     "output_type": "execute_result"
    }
   ],
   "source": [
    "df"
   ]
  },
  {
   "cell_type": "code",
   "execution_count": 34,
   "id": "42431f61-c914-49e6-8104-dd047ce5529a",
   "metadata": {
    "tags": []
   },
   "outputs": [],
   "source": [
    "df.to_csv(\"Cleaned_BA_reviews_1.csv\")"
   ]
  },
  {
   "cell_type": "code",
   "execution_count": 35,
   "id": "950af052-ad75-4cf2-9bd9-68687d13ccc0",
   "metadata": {
    "tags": []
   },
   "outputs": [
    {
     "data": {
      "text/plain": [
       "(3834, 6)"
      ]
     },
     "execution_count": 35,
     "metadata": {},
     "output_type": "execute_result"
    }
   ],
   "source": [
    "df.shape"
   ]
  },
  {
   "cell_type": "code",
   "execution_count": 36,
   "id": "285fcb04-800c-4608-8b32-8798855fd5d0",
   "metadata": {
    "tags": []
   },
   "outputs": [
    {
     "data": {
      "text/html": [
       "<div>\n",
       "<style scoped>\n",
       "    .dataframe tbody tr th:only-of-type {\n",
       "        vertical-align: middle;\n",
       "    }\n",
       "\n",
       "    .dataframe tbody tr th {\n",
       "        vertical-align: top;\n",
       "    }\n",
       "\n",
       "    .dataframe thead th {\n",
       "        text-align: right;\n",
       "    }\n",
       "</style>\n",
       "<table border=\"1\" class=\"dataframe\">\n",
       "  <thead>\n",
       "    <tr style=\"text-align: right;\">\n",
       "      <th></th>\n",
       "      <th>reviews</th>\n",
       "      <th>stars</th>\n",
       "      <th>date</th>\n",
       "      <th>country</th>\n",
       "      <th>verified</th>\n",
       "      <th>corpus</th>\n",
       "    </tr>\n",
       "  </thead>\n",
       "  <tbody>\n",
       "    <tr>\n",
       "      <th>0</th>\n",
       "      <td>Not Verified |  The customer service is one of...</td>\n",
       "      <td>5.0</td>\n",
       "      <td>2024-08-18</td>\n",
       "      <td>United States</td>\n",
       "      <td>False</td>\n",
       "      <td>verified customer service one worst ever seen ...</td>\n",
       "    </tr>\n",
       "    <tr>\n",
       "      <th>1</th>\n",
       "      <td>Not Verified | Before my flight, I was forced ...</td>\n",
       "      <td>2.0</td>\n",
       "      <td>2024-08-15</td>\n",
       "      <td>United Kingdom</td>\n",
       "      <td>False</td>\n",
       "      <td>verified flight forced ground staff check new ...</td>\n",
       "    </tr>\n",
       "    <tr>\n",
       "      <th>2</th>\n",
       "      <td>✅ Trip Verified |   British Airways at its bes...</td>\n",
       "      <td>1.0</td>\n",
       "      <td>2024-08-12</td>\n",
       "      <td>United Kingdom</td>\n",
       "      <td>True</td>\n",
       "      <td>british airway best outstanding service flight...</td>\n",
       "    </tr>\n",
       "    <tr>\n",
       "      <th>3</th>\n",
       "      <td>✅ Trip Verified | An excellent flight! Despite...</td>\n",
       "      <td>8.0</td>\n",
       "      <td>2024-08-12</td>\n",
       "      <td>Lebanon</td>\n",
       "      <td>True</td>\n",
       "      <td>excellent flight despite hour flight configure...</td>\n",
       "    </tr>\n",
       "    <tr>\n",
       "      <th>4</th>\n",
       "      <td>✅ Trip Verified | I recently traveled with Bri...</td>\n",
       "      <td>8.0</td>\n",
       "      <td>2024-08-11</td>\n",
       "      <td>United States</td>\n",
       "      <td>True</td>\n",
       "      <td>recently traveled british airway mixed experie...</td>\n",
       "    </tr>\n",
       "  </tbody>\n",
       "</table>\n",
       "</div>"
      ],
      "text/plain": [
       "                                             reviews  stars       date  \\\n",
       "0  Not Verified |  The customer service is one of...    5.0 2024-08-18   \n",
       "1  Not Verified | Before my flight, I was forced ...    2.0 2024-08-15   \n",
       "2  ✅ Trip Verified |   British Airways at its bes...    1.0 2024-08-12   \n",
       "3  ✅ Trip Verified | An excellent flight! Despite...    8.0 2024-08-12   \n",
       "4  ✅ Trip Verified | I recently traveled with Bri...    8.0 2024-08-11   \n",
       "\n",
       "          country  verified                                             corpus  \n",
       "0   United States     False  verified customer service one worst ever seen ...  \n",
       "1  United Kingdom     False  verified flight forced ground staff check new ...  \n",
       "2  United Kingdom      True  british airway best outstanding service flight...  \n",
       "3         Lebanon      True  excellent flight despite hour flight configure...  \n",
       "4   United States      True  recently traveled british airway mixed experie...  "
      ]
     },
     "execution_count": 36,
     "metadata": {},
     "output_type": "execute_result"
    }
   ],
   "source": [
    "df.head()"
   ]
  },
  {
   "cell_type": "code",
   "execution_count": 37,
   "id": "619459eb-d9be-4ec5-9941-635da40050ec",
   "metadata": {
    "tags": []
   },
   "outputs": [
    {
     "data": {
      "text/html": [
       "<div>\n",
       "<style scoped>\n",
       "    .dataframe tbody tr th:only-of-type {\n",
       "        vertical-align: middle;\n",
       "    }\n",
       "\n",
       "    .dataframe tbody tr th {\n",
       "        vertical-align: top;\n",
       "    }\n",
       "\n",
       "    .dataframe thead th {\n",
       "        text-align: right;\n",
       "    }\n",
       "</style>\n",
       "<table border=\"1\" class=\"dataframe\">\n",
       "  <thead>\n",
       "    <tr style=\"text-align: right;\">\n",
       "      <th></th>\n",
       "      <th>reviews</th>\n",
       "      <th>stars</th>\n",
       "      <th>date</th>\n",
       "      <th>country</th>\n",
       "      <th>verified</th>\n",
       "      <th>corpus</th>\n",
       "    </tr>\n",
       "  </thead>\n",
       "  <tbody>\n",
       "    <tr>\n",
       "      <th>0</th>\n",
       "      <td>Not Verified |  The customer service is one of...</td>\n",
       "      <td>5.0</td>\n",
       "      <td>2024-08-18</td>\n",
       "      <td>United States</td>\n",
       "      <td>False</td>\n",
       "      <td>verified customer service one worst ever seen ...</td>\n",
       "    </tr>\n",
       "    <tr>\n",
       "      <th>1</th>\n",
       "      <td>Not Verified | Before my flight, I was forced ...</td>\n",
       "      <td>2.0</td>\n",
       "      <td>2024-08-15</td>\n",
       "      <td>United Kingdom</td>\n",
       "      <td>False</td>\n",
       "      <td>verified flight forced ground staff check new ...</td>\n",
       "    </tr>\n",
       "    <tr>\n",
       "      <th>2</th>\n",
       "      <td>✅ Trip Verified |   British Airways at its bes...</td>\n",
       "      <td>1.0</td>\n",
       "      <td>2024-08-12</td>\n",
       "      <td>United Kingdom</td>\n",
       "      <td>True</td>\n",
       "      <td>british airway best outstanding service flight...</td>\n",
       "    </tr>\n",
       "    <tr>\n",
       "      <th>3</th>\n",
       "      <td>✅ Trip Verified | An excellent flight! Despite...</td>\n",
       "      <td>8.0</td>\n",
       "      <td>2024-08-12</td>\n",
       "      <td>Lebanon</td>\n",
       "      <td>True</td>\n",
       "      <td>excellent flight despite hour flight configure...</td>\n",
       "    </tr>\n",
       "    <tr>\n",
       "      <th>4</th>\n",
       "      <td>✅ Trip Verified | I recently traveled with Bri...</td>\n",
       "      <td>8.0</td>\n",
       "      <td>2024-08-11</td>\n",
       "      <td>United States</td>\n",
       "      <td>True</td>\n",
       "      <td>recently traveled british airway mixed experie...</td>\n",
       "    </tr>\n",
       "    <tr>\n",
       "      <th>...</th>\n",
       "      <td>...</td>\n",
       "      <td>...</td>\n",
       "      <td>...</td>\n",
       "      <td>...</td>\n",
       "      <td>...</td>\n",
       "      <td>...</td>\n",
       "    </tr>\n",
       "    <tr>\n",
       "      <th>3829</th>\n",
       "      <td>YYZ to LHR - July 2012 - I flew overnight in p...</td>\n",
       "      <td>9.0</td>\n",
       "      <td>2012-08-29</td>\n",
       "      <td>Canada</td>\n",
       "      <td>False</td>\n",
       "      <td>yyz lhr july flew overnight premium economy ch...</td>\n",
       "    </tr>\n",
       "    <tr>\n",
       "      <th>3830</th>\n",
       "      <td>LHR to HAM. Purser addresses all club passenge...</td>\n",
       "      <td>5.0</td>\n",
       "      <td>2012-08-28</td>\n",
       "      <td>United Kingdom</td>\n",
       "      <td>False</td>\n",
       "      <td>lhr ham purser address club passenger name boa...</td>\n",
       "    </tr>\n",
       "    <tr>\n",
       "      <th>3831</th>\n",
       "      <td>My son who had worked for British Airways urge...</td>\n",
       "      <td>8.0</td>\n",
       "      <td>2011-10-12</td>\n",
       "      <td>United Kingdom</td>\n",
       "      <td>False</td>\n",
       "      <td>son worked british airway urged fly british ai...</td>\n",
       "    </tr>\n",
       "    <tr>\n",
       "      <th>3832</th>\n",
       "      <td>London City-New York JFK via Shannon on A318 b...</td>\n",
       "      <td>2.0</td>\n",
       "      <td>2011-10-11</td>\n",
       "      <td>United States</td>\n",
       "      <td>False</td>\n",
       "      <td>london city new york jfk via shannon really ni...</td>\n",
       "    </tr>\n",
       "    <tr>\n",
       "      <th>3833</th>\n",
       "      <td>SIN-LHR BA12 B747-436 First Class. Old aircraf...</td>\n",
       "      <td>7.0</td>\n",
       "      <td>2011-10-09</td>\n",
       "      <td>United Kingdom</td>\n",
       "      <td>False</td>\n",
       "      <td>sin lhr ba b first class old aircraft seat pri...</td>\n",
       "    </tr>\n",
       "  </tbody>\n",
       "</table>\n",
       "<p>3834 rows × 6 columns</p>\n",
       "</div>"
      ],
      "text/plain": [
       "                                                reviews  stars       date  \\\n",
       "0     Not Verified |  The customer service is one of...    5.0 2024-08-18   \n",
       "1     Not Verified | Before my flight, I was forced ...    2.0 2024-08-15   \n",
       "2     ✅ Trip Verified |   British Airways at its bes...    1.0 2024-08-12   \n",
       "3     ✅ Trip Verified | An excellent flight! Despite...    8.0 2024-08-12   \n",
       "4     ✅ Trip Verified | I recently traveled with Bri...    8.0 2024-08-11   \n",
       "...                                                 ...    ...        ...   \n",
       "3829  YYZ to LHR - July 2012 - I flew overnight in p...    9.0 2012-08-29   \n",
       "3830  LHR to HAM. Purser addresses all club passenge...    5.0 2012-08-28   \n",
       "3831  My son who had worked for British Airways urge...    8.0 2011-10-12   \n",
       "3832  London City-New York JFK via Shannon on A318 b...    2.0 2011-10-11   \n",
       "3833  SIN-LHR BA12 B747-436 First Class. Old aircraf...    7.0 2011-10-09   \n",
       "\n",
       "             country  verified  \\\n",
       "0      United States     False   \n",
       "1     United Kingdom     False   \n",
       "2     United Kingdom      True   \n",
       "3            Lebanon      True   \n",
       "4      United States      True   \n",
       "...              ...       ...   \n",
       "3829          Canada     False   \n",
       "3830  United Kingdom     False   \n",
       "3831  United Kingdom     False   \n",
       "3832   United States     False   \n",
       "3833  United Kingdom     False   \n",
       "\n",
       "                                                 corpus  \n",
       "0     verified customer service one worst ever seen ...  \n",
       "1     verified flight forced ground staff check new ...  \n",
       "2     british airway best outstanding service flight...  \n",
       "3     excellent flight despite hour flight configure...  \n",
       "4     recently traveled british airway mixed experie...  \n",
       "...                                                 ...  \n",
       "3829  yyz lhr july flew overnight premium economy ch...  \n",
       "3830  lhr ham purser address club passenger name boa...  \n",
       "3831  son worked british airway urged fly british ai...  \n",
       "3832  london city new york jfk via shannon really ni...  \n",
       "3833  sin lhr ba b first class old aircraft seat pri...  \n",
       "\n",
       "[3834 rows x 6 columns]"
      ]
     },
     "execution_count": 37,
     "metadata": {},
     "output_type": "execute_result"
    }
   ],
   "source": [
    "df"
   ]
  }
 ],
 "metadata": {
  "kernelspec": {
   "display_name": "Python 3 (ipykernel)",
   "language": "python",
   "name": "python3"
  },
  "language_info": {
   "codemirror_mode": {
    "name": "ipython",
    "version": 3
   },
   "file_extension": ".py",
   "mimetype": "text/x-python",
   "name": "python",
   "nbconvert_exporter": "python",
   "pygments_lexer": "ipython3",
   "version": "3.10.0"
  }
 },
 "nbformat": 4,
 "nbformat_minor": 5
}
